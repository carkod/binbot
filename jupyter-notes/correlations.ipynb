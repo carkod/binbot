{
 "metadata": {
  "language_info": {
   "codemirror_mode": {
    "name": "ipython",
    "version": 3
   },
   "file_extension": ".py",
   "mimetype": "text/x-python",
   "name": "python",
   "nbconvert_exporter": "python",
   "pygments_lexer": "ipython3",
   "version": "3.8.2"
  },
  "orig_nbformat": 2,
  "kernelspec": {
   "name": "python382jvsc74a57bd090dc114618b2f4ba12bc91fb71a4e5be83799a1c46baa61d80bd456514675445",
   "display_name": "Python 3.8.2 64-bit ('binbot-dNwtV6z7': pipenv)"
  }
 },
 "nbformat": 4,
 "nbformat_minor": 2,
 "cells": [
  {
   "source": [
    "import numpy as np\n",
    "from scipy import stats\n",
    "x = np.arange(10, 20)\n",
    "y = np.array([2, 1, 4, 5, 8, 12, 18, 25, 96, 48])\n",
    "# Pearson\n",
    "r = stats.pearsonr(x, y)\n",
    "# first value is correlation, second is p-value\n",
    "print(r[0])\n",
    "\n",
    "# Other correlations\n",
    "rho = stats.spearmanr(x, y)\n",
    "tau = stats.kendalltau(x, y)"
   ],
   "cell_type": "code",
   "metadata": {},
   "execution_count": 2,
   "outputs": [
    {
     "output_type": "stream",
     "name": "stdout",
     "text": [
      "0.758640289091187\n"
     ]
    }
   ]
  }
 ]
}